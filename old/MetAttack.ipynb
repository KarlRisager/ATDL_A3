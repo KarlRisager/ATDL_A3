{
 "cells": [
  {
   "cell_type": "code",
   "execution_count": 1,
   "id": "2322b1b1",
   "metadata": {},
   "outputs": [],
   "source": [
    "from deeprobust.graph.data import Dataset\n",
    "from deeprobust.graph.defense import GCN\n",
    "from deeprobust.graph.global_attack import Metattack\n",
    "from deeprobust.graph.utils import preprocess, normalize_adj_tensor\n",
    "import torch.optim as optim\n",
    "import torch.nn.functional as F\n",
    "from utils import *\n",
    "from torch_geometric.utils import dense_to_sparse\n",
    "from torch_geometric.nn.models import GAT"
   ]
  },
  {
   "cell_type": "code",
   "execution_count": 2,
   "id": "a964b28f",
   "metadata": {},
   "outputs": [],
   "source": [
    "#If missing imports, clone https://github.com/ChandlerBang/pytorch-gnn-meta-attack?tab=readme-ov-file"
   ]
  },
  {
   "cell_type": "code",
   "execution_count": 3,
   "id": "7e54e847",
   "metadata": {},
   "outputs": [
    {
     "name": "stdout",
     "output_type": "stream",
     "text": [
      "Namespace(seed=15, epochs=100, lr=0.01, hidden=16)\n"
     ]
    }
   ],
   "source": [
    "import sys\n",
    "import argparse\n",
    "\n",
    "sys.argv = [\n",
    "    'notebook',\n",
    "    '--seed', '15',\n",
    "    '--epochs', '100',\n",
    "    '--lr', '0.01',\n",
    "    '--hidden', '16',\n",
    "]\n",
    "\n",
    "# Now use argparse as usual\n",
    "parser = argparse.ArgumentParser()\n",
    "parser.add_argument('--seed', type=int, default=15, help='Random seed.')\n",
    "parser.add_argument('--epochs', type=int, default=100, help='Number of epochs to train.')\n",
    "parser.add_argument('--lr', type=float, default=0.01, help='Initial learning rate.')\n",
    "parser.add_argument('--hidden', type=int, default=16, help='Number of hidden units.')\n",
    "\n",
    "args = parser.parse_args()\n",
    "device = 'cpu'\n",
    "print(args)"
   ]
  },
  {
   "cell_type": "code",
   "execution_count": 4,
   "id": "03c1326e",
   "metadata": {},
   "outputs": [
    {
     "name": "stdout",
     "output_type": "stream",
     "text": [
      "Loading cora dataset...\n",
      "Selecting 1 largest connected components\n"
     ]
    }
   ],
   "source": [
    "data = Dataset(root='/tmp/', name='cora')\n",
    "adj, features, labels = data.adj, data.features, data.labels\n",
    "adj, features, labels = preprocess(adj, features, labels, preprocess_adj=False)\n",
    "idx_train, idx_val, idx_test = data.idx_train, data.idx_val, data.idx_test\n",
    "idx_unlabeled = np.union1d(idx_val, idx_test)\n",
    "idx_unlabeled = np.union1d(idx_val, idx_test)"
   ]
  },
  {
   "cell_type": "code",
   "execution_count": 5,
   "id": "9476edf7",
   "metadata": {},
   "outputs": [
    {
     "name": "stderr",
     "output_type": "stream",
     "text": [
      "\r",
      "Perturbing graph:   0%|                                 | 0/100 [00:00<?, ?it/s]"
     ]
    },
    {
     "name": "stdout",
     "output_type": "stream",
     "text": [
      "GCN loss on unlabled data: 0.5512551665306091\n",
      "GCN acc on unlabled data: 0.8533750558784086\n",
      "attack loss: 0.3033529818058014\n"
     ]
    },
    {
     "name": "stderr",
     "output_type": "stream",
     "text": [
      "\r",
      "Perturbing graph:   1%|▎                        | 1/100 [00:21<35:15, 21.37s/it]"
     ]
    },
    {
     "name": "stdout",
     "output_type": "stream",
     "text": [
      "GCN loss on unlabled data: 0.5628827214241028\n",
      "GCN acc on unlabled data: 0.851586946803755\n",
      "attack loss: 0.3190400302410126\n"
     ]
    },
    {
     "name": "stderr",
     "output_type": "stream",
     "text": [
      "\r",
      "Perturbing graph:   2%|▌                        | 2/100 [00:43<35:31, 21.75s/it]"
     ]
    },
    {
     "name": "stdout",
     "output_type": "stream",
     "text": [
      "GCN loss on unlabled data: 0.5494763255119324\n",
      "GCN acc on unlabled data: 0.8520339740724184\n",
      "attack loss: 0.34519603848457336\n"
     ]
    },
    {
     "name": "stderr",
     "output_type": "stream",
     "text": [
      "\r",
      "Perturbing graph:   3%|▊                        | 3/100 [01:06<35:50, 22.17s/it]"
     ]
    },
    {
     "name": "stdout",
     "output_type": "stream",
     "text": [
      "GCN loss on unlabled data: 0.5526992082595825\n",
      "GCN acc on unlabled data: 0.8520339740724184\n",
      "attack loss: 0.33382856845855713\n"
     ]
    },
    {
     "name": "stderr",
     "output_type": "stream",
     "text": [
      "\r",
      "Perturbing graph:   4%|█                        | 4/100 [01:28<35:39, 22.28s/it]"
     ]
    },
    {
     "name": "stdout",
     "output_type": "stream",
     "text": [
      "GCN loss on unlabled data: 0.5628889799118042\n",
      "GCN acc on unlabled data: 0.8484577559231113\n",
      "attack loss: 0.3704691231250763\n"
     ]
    },
    {
     "name": "stderr",
     "output_type": "stream",
     "text": [
      "\r",
      "Perturbing graph:   5%|█▎                       | 5/100 [01:51<35:25, 22.37s/it]"
     ]
    },
    {
     "name": "stdout",
     "output_type": "stream",
     "text": [
      "GCN loss on unlabled data: 0.5344670414924622\n",
      "GCN acc on unlabled data: 0.8578453285650425\n",
      "attack loss: 0.3438534438610077\n"
     ]
    },
    {
     "name": "stderr",
     "output_type": "stream",
     "text": [
      "\r",
      "Perturbing graph:   6%|█▌                       | 6/100 [02:14<35:25, 22.62s/it]"
     ]
    },
    {
     "name": "stdout",
     "output_type": "stream",
     "text": [
      "GCN loss on unlabled data: 0.5646927356719971\n",
      "GCN acc on unlabled data: 0.8497988377291015\n",
      "attack loss: 0.3277953863143921\n"
     ]
    },
    {
     "name": "stderr",
     "output_type": "stream",
     "text": [
      "\r",
      "Perturbing graph:   7%|█▊                       | 7/100 [02:37<35:20, 22.80s/it]"
     ]
    },
    {
     "name": "stdout",
     "output_type": "stream",
     "text": [
      "GCN loss on unlabled data: 0.573273241519928\n",
      "GCN acc on unlabled data: 0.8471166741171211\n",
      "attack loss: 0.3690502345561981\n"
     ]
    },
    {
     "name": "stderr",
     "output_type": "stream",
     "text": [
      "\r",
      "Perturbing graph:   8%|██                       | 8/100 [02:59<34:40, 22.61s/it]"
     ]
    },
    {
     "name": "stdout",
     "output_type": "stream",
     "text": [
      "GCN loss on unlabled data: 0.6027886867523193\n",
      "GCN acc on unlabled data: 0.8462226195797944\n",
      "attack loss: 0.35457462072372437\n"
     ]
    },
    {
     "name": "stderr",
     "output_type": "stream",
     "text": [
      "\r",
      "Perturbing graph:   9%|██▎                      | 9/100 [03:22<34:25, 22.70s/it]"
     ]
    },
    {
     "name": "stdout",
     "output_type": "stream",
     "text": [
      "GCN loss on unlabled data: 0.6010683178901672\n",
      "GCN acc on unlabled data: 0.8390701832811801\n",
      "attack loss: 0.3855699896812439\n"
     ]
    },
    {
     "name": "stderr",
     "output_type": "stream",
     "text": [
      "\r",
      "Perturbing graph:  10%|██▍                     | 10/100 [03:45<34:00, 22.68s/it]"
     ]
    },
    {
     "name": "stdout",
     "output_type": "stream",
     "text": [
      "GCN loss on unlabled data: 0.568370521068573\n",
      "GCN acc on unlabled data: 0.8475637013857845\n",
      "attack loss: 0.35954728722572327\n"
     ]
    },
    {
     "name": "stderr",
     "output_type": "stream",
     "text": [
      "\r",
      "Perturbing graph:  11%|██▋                     | 11/100 [04:08<33:46, 22.77s/it]"
     ]
    },
    {
     "name": "stdout",
     "output_type": "stream",
     "text": [
      "GCN loss on unlabled data: 0.6145573258399963\n",
      "GCN acc on unlabled data: 0.8390701832811801\n",
      "attack loss: 0.41355010867118835\n"
     ]
    },
    {
     "name": "stderr",
     "output_type": "stream",
     "text": [
      "\r",
      "Perturbing graph:  12%|██▉                     | 12/100 [04:31<33:32, 22.87s/it]"
     ]
    },
    {
     "name": "stdout",
     "output_type": "stream",
     "text": [
      "GCN loss on unlabled data: 0.6091129779815674\n",
      "GCN acc on unlabled data: 0.8408582923558338\n",
      "attack loss: 0.3946256935596466\n"
     ]
    },
    {
     "name": "stderr",
     "output_type": "stream",
     "text": [
      "\r",
      "Perturbing graph:  13%|███                     | 13/100 [04:53<32:49, 22.64s/it]"
     ]
    },
    {
     "name": "stdout",
     "output_type": "stream",
     "text": [
      "GCN loss on unlabled data: 0.6075499653816223\n",
      "GCN acc on unlabled data: 0.8426464014304873\n",
      "attack loss: 0.4095766544342041\n"
     ]
    },
    {
     "name": "stderr",
     "output_type": "stream",
     "text": [
      "\r",
      "Perturbing graph:  14%|███▎                    | 14/100 [05:15<32:23, 22.59s/it]"
     ]
    },
    {
     "name": "stdout",
     "output_type": "stream",
     "text": [
      "GCN loss on unlabled data: 0.5850657820701599\n",
      "GCN acc on unlabled data: 0.8390701832811801\n",
      "attack loss: 0.3742644488811493\n"
     ]
    },
    {
     "name": "stderr",
     "output_type": "stream",
     "text": [
      "\r",
      "Perturbing graph:  15%|███▌                    | 15/100 [05:38<31:53, 22.51s/it]"
     ]
    },
    {
     "name": "stdout",
     "output_type": "stream",
     "text": [
      "GCN loss on unlabled data: 0.572401225566864\n",
      "GCN acc on unlabled data: 0.8386231560125168\n",
      "attack loss: 0.40938708186149597\n"
     ]
    },
    {
     "name": "stderr",
     "output_type": "stream",
     "text": [
      "\r",
      "Perturbing graph:  16%|███▊                    | 16/100 [05:59<31:14, 22.31s/it]"
     ]
    },
    {
     "name": "stdout",
     "output_type": "stream",
     "text": [
      "GCN loss on unlabled data: 0.6040974259376526\n",
      "GCN acc on unlabled data: 0.8417523468931605\n",
      "attack loss: 0.3973320722579956\n"
     ]
    },
    {
     "name": "stderr",
     "output_type": "stream",
     "text": [
      "\r",
      "Perturbing graph:  17%|████                    | 17/100 [06:22<30:50, 22.30s/it]"
     ]
    },
    {
     "name": "stdout",
     "output_type": "stream",
     "text": [
      "GCN loss on unlabled data: 0.605332612991333\n",
      "GCN acc on unlabled data: 0.8381761287438534\n",
      "attack loss: 0.3918043375015259\n"
     ]
    },
    {
     "name": "stderr",
     "output_type": "stream",
     "text": [
      "\r",
      "Perturbing graph:  18%|████▎                   | 18/100 [06:44<30:34, 22.37s/it]"
     ]
    },
    {
     "name": "stdout",
     "output_type": "stream",
     "text": [
      "GCN loss on unlabled data: 0.6380968689918518\n",
      "GCN acc on unlabled data: 0.829682610639249\n",
      "attack loss: 0.4429900646209717\n"
     ]
    },
    {
     "name": "stderr",
     "output_type": "stream",
     "text": [
      "\r",
      "Perturbing graph:  19%|████▌                   | 19/100 [07:08<30:43, 22.76s/it]"
     ]
    },
    {
     "name": "stdout",
     "output_type": "stream",
     "text": [
      "GCN loss on unlabled data: 0.6425262689590454\n",
      "GCN acc on unlabled data: 0.8314707197139025\n",
      "attack loss: 0.4469994306564331\n"
     ]
    },
    {
     "name": "stderr",
     "output_type": "stream",
     "text": [
      "\r",
      "Perturbing graph:  20%|████▊                   | 20/100 [07:29<29:53, 22.42s/it]"
     ]
    },
    {
     "name": "stdout",
     "output_type": "stream",
     "text": [
      "GCN loss on unlabled data: 0.6351603269577026\n",
      "GCN acc on unlabled data: 0.8381761287438534\n",
      "attack loss: 0.4419766068458557\n"
     ]
    },
    {
     "name": "stderr",
     "output_type": "stream",
     "text": [
      "\r",
      "Perturbing graph:  21%|█████                   | 21/100 [07:51<29:10, 22.16s/it]"
     ]
    },
    {
     "name": "stdout",
     "output_type": "stream",
     "text": [
      "GCN loss on unlabled data: 0.5991038084030151\n",
      "GCN acc on unlabled data: 0.8399642378185069\n",
      "attack loss: 0.4133014678955078\n"
     ]
    },
    {
     "name": "stderr",
     "output_type": "stream",
     "text": [
      "\r",
      "Perturbing graph:  22%|█████▎                  | 22/100 [08:13<28:34, 21.98s/it]"
     ]
    },
    {
     "name": "stdout",
     "output_type": "stream",
     "text": [
      "GCN loss on unlabled data: 0.619140088558197\n",
      "GCN acc on unlabled data: 0.8359409924005364\n",
      "attack loss: 0.41806310415267944\n"
     ]
    },
    {
     "name": "stderr",
     "output_type": "stream",
     "text": [
      "\r",
      "Perturbing graph:  23%|█████▌                  | 23/100 [08:34<27:59, 21.82s/it]"
     ]
    },
    {
     "name": "stdout",
     "output_type": "stream",
     "text": [
      "GCN loss on unlabled data: 0.6648439168930054\n",
      "GCN acc on unlabled data: 0.8283415288332588\n",
      "attack loss: 0.49533611536026\n"
     ]
    },
    {
     "name": "stderr",
     "output_type": "stream",
     "text": [
      "\r",
      "Perturbing graph:  24%|█████▊                  | 24/100 [08:56<27:31, 21.73s/it]"
     ]
    },
    {
     "name": "stdout",
     "output_type": "stream",
     "text": [
      "GCN loss on unlabled data: 0.6043040752410889\n",
      "GCN acc on unlabled data: 0.8390701832811801\n",
      "attack loss: 0.4514940679073334\n"
     ]
    },
    {
     "name": "stderr",
     "output_type": "stream",
     "text": [
      "\r",
      "Perturbing graph:  25%|██████                  | 25/100 [09:17<27:10, 21.74s/it]"
     ]
    },
    {
     "name": "stdout",
     "output_type": "stream",
     "text": [
      "GCN loss on unlabled data: 0.6443125009536743\n",
      "GCN acc on unlabled data: 0.8301296379079124\n",
      "attack loss: 0.43241485953330994\n"
     ]
    },
    {
     "name": "stderr",
     "output_type": "stream",
     "text": [
      "\r",
      "Perturbing graph:  26%|██████▏                 | 26/100 [09:39<26:42, 21.65s/it]"
     ]
    },
    {
     "name": "stdout",
     "output_type": "stream",
     "text": [
      "GCN loss on unlabled data: 0.628671407699585\n",
      "GCN acc on unlabled data: 0.8372820742065266\n",
      "attack loss: 0.45262324810028076\n"
     ]
    },
    {
     "name": "stderr",
     "output_type": "stream",
     "text": [
      "\r",
      "Perturbing graph:  27%|██████▍                 | 27/100 [10:01<26:28, 21.76s/it]"
     ]
    },
    {
     "name": "stdout",
     "output_type": "stream",
     "text": [
      "GCN loss on unlabled data: 0.654060959815979\n",
      "GCN acc on unlabled data: 0.8372820742065266\n",
      "attack loss: 0.4897069036960602\n"
     ]
    },
    {
     "name": "stderr",
     "output_type": "stream",
     "text": [
      "\r",
      "Perturbing graph:  28%|██████▋                 | 28/100 [10:22<26:03, 21.71s/it]"
     ]
    },
    {
     "name": "stdout",
     "output_type": "stream",
     "text": [
      "GCN loss on unlabled data: 0.6890825629234314\n",
      "GCN acc on unlabled data: 0.8247653106839518\n",
      "attack loss: 0.48309099674224854\n"
     ]
    },
    {
     "name": "stderr",
     "output_type": "stream",
     "text": [
      "\r",
      "Perturbing graph:  29%|██████▉                 | 29/100 [10:44<25:38, 21.67s/it]"
     ]
    },
    {
     "name": "stdout",
     "output_type": "stream",
     "text": [
      "GCN loss on unlabled data: 0.6648750305175781\n",
      "GCN acc on unlabled data: 0.8207420652659813\n",
      "attack loss: 0.4782804846763611\n"
     ]
    },
    {
     "name": "stderr",
     "output_type": "stream",
     "text": [
      "\r",
      "Perturbing graph:  30%|███████▏                | 30/100 [11:06<25:19, 21.71s/it]"
     ]
    },
    {
     "name": "stdout",
     "output_type": "stream",
     "text": [
      "GCN loss on unlabled data: 0.6485023498535156\n",
      "GCN acc on unlabled data: 0.8278945015645954\n",
      "attack loss: 0.4701559543609619\n"
     ]
    },
    {
     "name": "stderr",
     "output_type": "stream",
     "text": [
      "\r",
      "Perturbing graph:  31%|███████▍                | 31/100 [11:27<24:53, 21.65s/it]"
     ]
    },
    {
     "name": "stdout",
     "output_type": "stream",
     "text": [
      "GCN loss on unlabled data: 0.6773490905761719\n",
      "GCN acc on unlabled data: 0.8261063924899419\n",
      "attack loss: 0.508836030960083\n"
     ]
    },
    {
     "name": "stderr",
     "output_type": "stream",
     "text": [
      "\r",
      "Perturbing graph:  32%|███████▋                | 32/100 [11:49<24:34, 21.69s/it]"
     ]
    },
    {
     "name": "stdout",
     "output_type": "stream",
     "text": [
      "GCN loss on unlabled data: 0.6602308750152588\n",
      "GCN acc on unlabled data: 0.8287885561019223\n",
      "attack loss: 0.49312183260917664\n"
     ]
    },
    {
     "name": "stderr",
     "output_type": "stream",
     "text": [
      "\r",
      "Perturbing graph:  33%|███████▉                | 33/100 [12:11<24:09, 21.64s/it]"
     ]
    },
    {
     "name": "stdout",
     "output_type": "stream",
     "text": [
      "GCN loss on unlabled data: 0.6622576713562012\n",
      "GCN acc on unlabled data: 0.8261063924899419\n",
      "attack loss: 0.47859230637550354\n"
     ]
    },
    {
     "name": "stderr",
     "output_type": "stream",
     "text": [
      "\r",
      "Perturbing graph:  34%|████████▏               | 34/100 [12:32<23:45, 21.60s/it]"
     ]
    },
    {
     "name": "stdout",
     "output_type": "stream",
     "text": [
      "GCN loss on unlabled data: 0.6770281195640564\n",
      "GCN acc on unlabled data: 0.8323647742512293\n",
      "attack loss: 0.5008470416069031\n"
     ]
    },
    {
     "name": "stderr",
     "output_type": "stream",
     "text": [
      "\r",
      "Perturbing graph:  35%|████████▍               | 35/100 [12:54<23:21, 21.57s/it]"
     ]
    },
    {
     "name": "stdout",
     "output_type": "stream",
     "text": [
      "GCN loss on unlabled data: 0.6742794513702393\n",
      "GCN acc on unlabled data: 0.8256593652212785\n",
      "attack loss: 0.47873541712760925\n"
     ]
    },
    {
     "name": "stderr",
     "output_type": "stream",
     "text": [
      "\r",
      "Perturbing graph:  36%|████████▋               | 36/100 [13:16<23:07, 21.68s/it]"
     ]
    },
    {
     "name": "stdout",
     "output_type": "stream",
     "text": [
      "GCN loss on unlabled data: 0.6860513687133789\n",
      "GCN acc on unlabled data: 0.8220831470719714\n",
      "attack loss: 0.5310071110725403\n"
     ]
    },
    {
     "name": "stderr",
     "output_type": "stream",
     "text": [
      "\r",
      "Perturbing graph:  37%|████████▉               | 37/100 [13:37<22:43, 21.65s/it]"
     ]
    },
    {
     "name": "stdout",
     "output_type": "stream",
     "text": [
      "GCN loss on unlabled data: 0.6538568139076233\n",
      "GCN acc on unlabled data: 0.8319177469825659\n",
      "attack loss: 0.5082624554634094\n"
     ]
    },
    {
     "name": "stderr",
     "output_type": "stream",
     "text": [
      "\r",
      "Perturbing graph:  38%|█████████               | 38/100 [13:59<22:20, 21.63s/it]"
     ]
    },
    {
     "name": "stdout",
     "output_type": "stream",
     "text": [
      "GCN loss on unlabled data: 0.7055704593658447\n",
      "GCN acc on unlabled data: 0.8261063924899419\n",
      "attack loss: 0.5591985583305359\n"
     ]
    },
    {
     "name": "stderr",
     "output_type": "stream",
     "text": [
      "\r",
      "Perturbing graph:  39%|█████████▎              | 39/100 [14:20<21:57, 21.61s/it]"
     ]
    },
    {
     "name": "stdout",
     "output_type": "stream",
     "text": [
      "GCN loss on unlabled data: 0.7201189398765564\n",
      "GCN acc on unlabled data: 0.8091193562807332\n",
      "attack loss: 0.5505044460296631\n"
     ]
    },
    {
     "name": "stderr",
     "output_type": "stream",
     "text": [
      "\r",
      "Perturbing graph:  40%|█████████▌              | 40/100 [14:42<21:35, 21.59s/it]"
     ]
    },
    {
     "name": "stdout",
     "output_type": "stream",
     "text": [
      "GCN loss on unlabled data: 0.6697074770927429\n",
      "GCN acc on unlabled data: 0.8305766651765758\n",
      "attack loss: 0.5055767893791199\n"
     ]
    },
    {
     "name": "stderr",
     "output_type": "stream",
     "text": [
      "\r",
      "Perturbing graph:  41%|█████████▊              | 41/100 [15:04<21:22, 21.73s/it]"
     ]
    },
    {
     "name": "stdout",
     "output_type": "stream",
     "text": [
      "GCN loss on unlabled data: 0.6738466024398804\n",
      "GCN acc on unlabled data: 0.8234242288779615\n",
      "attack loss: 0.5056285858154297\n"
     ]
    },
    {
     "name": "stderr",
     "output_type": "stream",
     "text": [
      "\r",
      "Perturbing graph:  42%|██████████              | 42/100 [15:26<21:00, 21.73s/it]"
     ]
    },
    {
     "name": "stdout",
     "output_type": "stream",
     "text": [
      "GCN loss on unlabled data: 0.7041482925415039\n",
      "GCN acc on unlabled data: 0.8207420652659813\n",
      "attack loss: 0.5595563054084778\n"
     ]
    },
    {
     "name": "stderr",
     "output_type": "stream",
     "text": [
      "\r",
      "Perturbing graph:  43%|██████████▎             | 43/100 [15:47<20:39, 21.75s/it]"
     ]
    },
    {
     "name": "stdout",
     "output_type": "stream",
     "text": [
      "GCN loss on unlabled data: 0.7247970104217529\n",
      "GCN acc on unlabled data: 0.8189539561913277\n",
      "attack loss: 0.5685433149337769\n"
     ]
    },
    {
     "name": "stderr",
     "output_type": "stream",
     "text": [
      "\r",
      "Perturbing graph:  44%|██████████▌             | 44/100 [16:09<20:17, 21.74s/it]"
     ]
    },
    {
     "name": "stdout",
     "output_type": "stream",
     "text": [
      "GCN loss on unlabled data: 0.654148519039154\n",
      "GCN acc on unlabled data: 0.8234242288779615\n",
      "attack loss: 0.5088388919830322\n"
     ]
    },
    {
     "name": "stderr",
     "output_type": "stream",
     "text": [
      "\r",
      "Perturbing graph:  45%|██████████▊             | 45/100 [16:31<19:54, 21.71s/it]"
     ]
    },
    {
     "name": "stdout",
     "output_type": "stream",
     "text": [
      "GCN loss on unlabled data: 0.7101553082466125\n",
      "GCN acc on unlabled data: 0.8211890925346446\n",
      "attack loss: 0.5802528262138367\n"
     ]
    },
    {
     "name": "stderr",
     "output_type": "stream",
     "text": [
      "\r",
      "Perturbing graph:  46%|███████████             | 46/100 [16:52<19:31, 21.70s/it]"
     ]
    },
    {
     "name": "stdout",
     "output_type": "stream",
     "text": [
      "GCN loss on unlabled data: 0.7088814973831177\n",
      "GCN acc on unlabled data: 0.8189539561913277\n",
      "attack loss: 0.5591737031936646\n"
     ]
    },
    {
     "name": "stderr",
     "output_type": "stream",
     "text": [
      "\r",
      "Perturbing graph:  47%|███████████▎            | 47/100 [17:15<19:19, 21.88s/it]"
     ]
    },
    {
     "name": "stdout",
     "output_type": "stream",
     "text": [
      "GCN loss on unlabled data: 0.6916553378105164\n",
      "GCN acc on unlabled data: 0.8167188198480108\n",
      "attack loss: 0.5356552004814148\n"
     ]
    },
    {
     "name": "stderr",
     "output_type": "stream",
     "text": [
      "\r",
      "Perturbing graph:  48%|███████████▌            | 48/100 [17:36<18:54, 21.81s/it]"
     ]
    },
    {
     "name": "stdout",
     "output_type": "stream",
     "text": [
      "GCN loss on unlabled data: 0.7151259779930115\n",
      "GCN acc on unlabled data: 0.8185069289226643\n",
      "attack loss: 0.5747547149658203\n"
     ]
    },
    {
     "name": "stderr",
     "output_type": "stream",
     "text": [
      "\r",
      "Perturbing graph:  49%|███████████▊            | 49/100 [17:58<18:30, 21.77s/it]"
     ]
    },
    {
     "name": "stdout",
     "output_type": "stream",
     "text": [
      "GCN loss on unlabled data: 0.7503049969673157\n",
      "GCN acc on unlabled data: 0.81135449262405\n",
      "attack loss: 0.5962241291999817\n"
     ]
    },
    {
     "name": "stderr",
     "output_type": "stream",
     "text": [
      "\r",
      "Perturbing graph:  50%|████████████            | 50/100 [18:20<18:07, 21.76s/it]"
     ]
    },
    {
     "name": "stdout",
     "output_type": "stream",
     "text": [
      "GCN loss on unlabled data: 0.7537571787834167\n",
      "GCN acc on unlabled data: 0.8068842199374162\n",
      "attack loss: 0.583999752998352\n"
     ]
    },
    {
     "name": "stderr",
     "output_type": "stream",
     "text": [
      "\r",
      "Perturbing graph:  51%|████████████▏           | 51/100 [18:41<17:43, 21.71s/it]"
     ]
    },
    {
     "name": "stdout",
     "output_type": "stream",
     "text": [
      "GCN loss on unlabled data: 0.7512629628181458\n",
      "GCN acc on unlabled data: 0.8131426016987037\n",
      "attack loss: 0.6048447489738464\n"
     ]
    },
    {
     "name": "stderr",
     "output_type": "stream",
     "text": [
      "\r",
      "Perturbing graph:  52%|████████████▍           | 52/100 [19:03<17:25, 21.79s/it]"
     ]
    },
    {
     "name": "stdout",
     "output_type": "stream",
     "text": [
      "GCN loss on unlabled data: 0.729047417640686\n",
      "GCN acc on unlabled data: 0.821636119803308\n",
      "attack loss: 0.5843877196311951\n"
     ]
    },
    {
     "name": "stderr",
     "output_type": "stream",
     "text": [
      "\r",
      "Perturbing graph:  53%|████████████▋           | 53/100 [19:25<17:05, 21.82s/it]"
     ]
    },
    {
     "name": "stdout",
     "output_type": "stream",
     "text": [
      "GCN loss on unlabled data: 0.7401262521743774\n",
      "GCN acc on unlabled data: 0.8149307107733572\n",
      "attack loss: 0.5606318116188049\n"
     ]
    },
    {
     "name": "stderr",
     "output_type": "stream",
     "text": [
      "\r",
      "Perturbing graph:  54%|████████████▉           | 54/100 [19:47<16:41, 21.77s/it]"
     ]
    },
    {
     "name": "stdout",
     "output_type": "stream",
     "text": [
      "GCN loss on unlabled data: 0.738450288772583\n",
      "GCN acc on unlabled data: 0.8202950379973178\n",
      "attack loss: 0.5759274363517761\n"
     ]
    },
    {
     "name": "stderr",
     "output_type": "stream",
     "text": [
      "\r",
      "Perturbing graph:  55%|█████████████▏          | 55/100 [20:09<16:17, 21.73s/it]"
     ]
    },
    {
     "name": "stdout",
     "output_type": "stream",
     "text": [
      "GCN loss on unlabled data: 0.7404775619506836\n",
      "GCN acc on unlabled data: 0.8109074653553867\n",
      "attack loss: 0.5851842761039734\n"
     ]
    },
    {
     "name": "stderr",
     "output_type": "stream",
     "text": [
      "\r",
      "Perturbing graph:  56%|█████████████▍          | 56/100 [20:31<16:00, 21.82s/it]"
     ]
    },
    {
     "name": "stdout",
     "output_type": "stream",
     "text": [
      "GCN loss on unlabled data: 0.7389516830444336\n",
      "GCN acc on unlabled data: 0.8211890925346446\n",
      "attack loss: 0.5878592729568481\n"
     ]
    },
    {
     "name": "stderr",
     "output_type": "stream",
     "text": [
      "\r",
      "Perturbing graph:  57%|█████████████▋          | 57/100 [20:52<15:36, 21.79s/it]"
     ]
    },
    {
     "name": "stdout",
     "output_type": "stream",
     "text": [
      "GCN loss on unlabled data: 0.754700779914856\n",
      "GCN acc on unlabled data: 0.8077782744747429\n",
      "attack loss: 0.610718309879303\n"
     ]
    },
    {
     "name": "stderr",
     "output_type": "stream",
     "text": [
      "\r",
      "Perturbing graph:  58%|█████████████▉          | 58/100 [21:15<15:23, 21.98s/it]"
     ]
    },
    {
     "name": "stdout",
     "output_type": "stream",
     "text": [
      "GCN loss on unlabled data: 0.7255296111106873\n",
      "GCN acc on unlabled data: 0.8100134108180599\n",
      "attack loss: 0.5413358807563782\n"
     ]
    },
    {
     "name": "stderr",
     "output_type": "stream",
     "text": [
      "\r",
      "Perturbing graph:  59%|██████████████▏         | 59/100 [21:37<14:59, 21.95s/it]"
     ]
    },
    {
     "name": "stdout",
     "output_type": "stream",
     "text": [
      "GCN loss on unlabled data: 0.7302100658416748\n",
      "GCN acc on unlabled data: 0.819400983459991\n",
      "attack loss: 0.5965900421142578\n"
     ]
    },
    {
     "name": "stderr",
     "output_type": "stream",
     "text": [
      "\r",
      "Perturbing graph:  60%|██████████████▍         | 60/100 [21:58<14:34, 21.87s/it]"
     ]
    },
    {
     "name": "stdout",
     "output_type": "stream",
     "text": [
      "GCN loss on unlabled data: 0.7893452048301697\n",
      "GCN acc on unlabled data: 0.8068842199374162\n",
      "attack loss: 0.6359111070632935\n"
     ]
    },
    {
     "name": "stderr",
     "output_type": "stream",
     "text": [
      "\r",
      "Perturbing graph:  61%|██████████████▋         | 61/100 [22:24<14:55, 22.97s/it]"
     ]
    },
    {
     "name": "stdout",
     "output_type": "stream",
     "text": [
      "GCN loss on unlabled data: 0.7780202627182007\n",
      "GCN acc on unlabled data: 0.8086723290120698\n",
      "attack loss: 0.6103518009185791\n"
     ]
    },
    {
     "name": "stderr",
     "output_type": "stream",
     "text": [
      "\r",
      "Perturbing graph:  62%|██████████████▉         | 62/100 [22:48<14:41, 23.21s/it]"
     ]
    },
    {
     "name": "stdout",
     "output_type": "stream",
     "text": [
      "GCN loss on unlabled data: 0.7837039232254028\n",
      "GCN acc on unlabled data: 0.8091193562807332\n",
      "attack loss: 0.6348928809165955\n"
     ]
    },
    {
     "name": "stderr",
     "output_type": "stream",
     "text": [
      "\r",
      "Perturbing graph:  63%|███████████████         | 63/100 [23:10<14:11, 23.02s/it]"
     ]
    },
    {
     "name": "stdout",
     "output_type": "stream",
     "text": [
      "GCN loss on unlabled data: 0.7459712028503418\n",
      "GCN acc on unlabled data: 0.8077782744747429\n",
      "attack loss: 0.6054185032844543\n"
     ]
    },
    {
     "name": "stderr",
     "output_type": "stream",
     "text": [
      "\r",
      "Perturbing graph:  64%|███████████████▎        | 64/100 [23:32<13:40, 22.78s/it]"
     ]
    },
    {
     "name": "stdout",
     "output_type": "stream",
     "text": [
      "GCN loss on unlabled data: 0.7860100865364075\n",
      "GCN acc on unlabled data: 0.805543138131426\n",
      "attack loss: 0.6259996294975281\n"
     ]
    },
    {
     "name": "stderr",
     "output_type": "stream",
     "text": [
      "\r",
      "Perturbing graph:  65%|███████████████▌        | 65/100 [23:54<13:08, 22.54s/it]"
     ]
    },
    {
     "name": "stdout",
     "output_type": "stream",
     "text": [
      "GCN loss on unlabled data: 0.712373673915863\n",
      "GCN acc on unlabled data: 0.8167188198480108\n",
      "attack loss: 0.5921767950057983\n"
     ]
    },
    {
     "name": "stderr",
     "output_type": "stream",
     "text": [
      "\r",
      "Perturbing graph:  66%|███████████████▊        | 66/100 [24:16<12:38, 22.31s/it]"
     ]
    },
    {
     "name": "stdout",
     "output_type": "stream",
     "text": [
      "GCN loss on unlabled data: 0.7467995285987854\n",
      "GCN acc on unlabled data: 0.8144836835046938\n",
      "attack loss: 0.597324550151825\n"
     ]
    },
    {
     "name": "stderr",
     "output_type": "stream",
     "text": [
      "\r",
      "Perturbing graph:  67%|████████████████        | 67/100 [24:40<12:29, 22.72s/it]"
     ]
    },
    {
     "name": "stdout",
     "output_type": "stream",
     "text": [
      "GCN loss on unlabled data: 0.7582721710205078\n",
      "GCN acc on unlabled data: 0.8126955744300403\n",
      "attack loss: 0.6081556677818298\n"
     ]
    },
    {
     "name": "stderr",
     "output_type": "stream",
     "text": [
      "\r",
      "Perturbing graph:  68%|████████████████▎       | 68/100 [25:08<13:00, 24.38s/it]"
     ]
    },
    {
     "name": "stdout",
     "output_type": "stream",
     "text": [
      "GCN loss on unlabled data: 0.770308792591095\n",
      "GCN acc on unlabled data: 0.8140366562360304\n",
      "attack loss: 0.631103515625\n"
     ]
    },
    {
     "name": "stderr",
     "output_type": "stream",
     "text": [
      "\r",
      "Perturbing graph:  69%|████████████████▌       | 69/100 [25:34<12:53, 24.95s/it]"
     ]
    },
    {
     "name": "stdout",
     "output_type": "stream",
     "text": [
      "GCN loss on unlabled data: 0.7884484529495239\n",
      "GCN acc on unlabled data: 0.8037550290567724\n",
      "attack loss: 0.6231310367584229\n"
     ]
    },
    {
     "name": "stderr",
     "output_type": "stream",
     "text": [
      "\r",
      "Perturbing graph:  70%|████████████████▊       | 70/100 [26:04<13:07, 26.25s/it]"
     ]
    },
    {
     "name": "stdout",
     "output_type": "stream",
     "text": [
      "GCN loss on unlabled data: 0.7645500302314758\n",
      "GCN acc on unlabled data: 0.8059901654000894\n",
      "attack loss: 0.6275394558906555\n"
     ]
    },
    {
     "name": "stderr",
     "output_type": "stream",
     "text": [
      "\r",
      "Perturbing graph:  71%|█████████████████       | 71/100 [26:25<12:03, 24.95s/it]"
     ]
    },
    {
     "name": "stdout",
     "output_type": "stream",
     "text": [
      "GCN loss on unlabled data: 0.7450720071792603\n",
      "GCN acc on unlabled data: 0.8104604380867233\n",
      "attack loss: 0.5926784873008728\n"
     ]
    },
    {
     "name": "stderr",
     "output_type": "stream",
     "text": [
      "\r",
      "Perturbing graph:  72%|█████████████████▎      | 72/100 [26:50<11:34, 24.80s/it]"
     ]
    },
    {
     "name": "stdout",
     "output_type": "stream",
     "text": [
      "GCN loss on unlabled data: 0.7931267023086548\n",
      "GCN acc on unlabled data: 0.8176128743853375\n",
      "attack loss: 0.6578679084777832\n"
     ]
    },
    {
     "name": "stderr",
     "output_type": "stream",
     "text": [
      "\r",
      "Perturbing graph:  73%|█████████████████▌      | 73/100 [27:12<10:50, 24.11s/it]"
     ]
    },
    {
     "name": "stdout",
     "output_type": "stream",
     "text": [
      "GCN loss on unlabled data: 0.7756724953651428\n",
      "GCN acc on unlabled data: 0.8126955744300403\n",
      "attack loss: 0.6365638971328735\n"
     ]
    },
    {
     "name": "stderr",
     "output_type": "stream",
     "text": [
      "\r",
      "Perturbing graph:  74%|█████████████████▊      | 74/100 [27:34<10:08, 23.42s/it]"
     ]
    },
    {
     "name": "stdout",
     "output_type": "stream",
     "text": [
      "GCN loss on unlabled data: 0.7498790621757507\n",
      "GCN acc on unlabled data: 0.8118015198927134\n",
      "attack loss: 0.6246716380119324\n"
     ]
    },
    {
     "name": "stderr",
     "output_type": "stream",
     "text": [
      "\r",
      "Perturbing graph:  75%|██████████████████      | 75/100 [27:56<09:33, 22.95s/it]"
     ]
    },
    {
     "name": "stdout",
     "output_type": "stream",
     "text": [
      "GCN loss on unlabled data: 0.7894141674041748\n",
      "GCN acc on unlabled data: 0.81135449262405\n",
      "attack loss: 0.6652183532714844\n"
     ]
    },
    {
     "name": "stderr",
     "output_type": "stream",
     "text": [
      "\r",
      "Perturbing graph:  76%|██████████████████▏     | 76/100 [28:18<09:02, 22.60s/it]"
     ]
    },
    {
     "name": "stdout",
     "output_type": "stream",
     "text": [
      "GCN loss on unlabled data: 0.8081783056259155\n",
      "GCN acc on unlabled data: 0.8073312472060795\n",
      "attack loss: 0.6537394523620605\n"
     ]
    },
    {
     "name": "stderr",
     "output_type": "stream",
     "text": [
      "\r",
      "Perturbing graph:  77%|██████████████████▍     | 77/100 [28:40<08:33, 22.33s/it]"
     ]
    },
    {
     "name": "stdout",
     "output_type": "stream",
     "text": [
      "GCN loss on unlabled data: 0.822175145149231\n",
      "GCN acc on unlabled data: 0.8140366562360304\n",
      "attack loss: 0.6657742261886597\n"
     ]
    },
    {
     "name": "stderr",
     "output_type": "stream",
     "text": [
      "\r",
      "Perturbing graph:  78%|██████████████████▋     | 78/100 [29:01<08:08, 22.19s/it]"
     ]
    },
    {
     "name": "stdout",
     "output_type": "stream",
     "text": [
      "GCN loss on unlabled data: 0.8019694089889526\n",
      "GCN acc on unlabled data: 0.8042020563254358\n",
      "attack loss: 0.6609028577804565\n"
     ]
    },
    {
     "name": "stderr",
     "output_type": "stream",
     "text": [
      "\r",
      "Perturbing graph:  79%|██████████████████▉     | 79/100 [29:24<07:45, 22.17s/it]"
     ]
    },
    {
     "name": "stdout",
     "output_type": "stream",
     "text": [
      "GCN loss on unlabled data: 0.7566409707069397\n",
      "GCN acc on unlabled data: 0.8100134108180599\n",
      "attack loss: 0.6355218291282654\n"
     ]
    },
    {
     "name": "stderr",
     "output_type": "stream",
     "text": [
      "\r",
      "Perturbing graph:  80%|███████████████████▏    | 80/100 [29:45<07:21, 22.06s/it]"
     ]
    },
    {
     "name": "stdout",
     "output_type": "stream",
     "text": [
      "GCN loss on unlabled data: 0.8183971047401428\n",
      "GCN acc on unlabled data: 0.8010728654447922\n",
      "attack loss: 0.6876953840255737\n"
     ]
    },
    {
     "name": "stderr",
     "output_type": "stream",
     "text": [
      "\r",
      "Perturbing graph:  81%|███████████████████▍    | 81/100 [30:07<06:58, 22.03s/it]"
     ]
    },
    {
     "name": "stdout",
     "output_type": "stream",
     "text": [
      "GCN loss on unlabled data: 0.8343294262886047\n",
      "GCN acc on unlabled data: 0.8006258381761288\n",
      "attack loss: 0.6994044184684753\n"
     ]
    },
    {
     "name": "stderr",
     "output_type": "stream",
     "text": [
      "\r",
      "Perturbing graph:  82%|███████████████████▋    | 82/100 [30:30<06:42, 22.36s/it]"
     ]
    },
    {
     "name": "stdout",
     "output_type": "stream",
     "text": [
      "GCN loss on unlabled data: 0.7910239696502686\n",
      "GCN acc on unlabled data: 0.8037550290567724\n",
      "attack loss: 0.6608598828315735\n"
     ]
    },
    {
     "name": "stderr",
     "output_type": "stream",
     "text": [
      "\r",
      "Perturbing graph:  83%|███████████████████▉    | 83/100 [30:53<06:21, 22.42s/it]"
     ]
    },
    {
     "name": "stdout",
     "output_type": "stream",
     "text": [
      "GCN loss on unlabled data: 0.8591755628585815\n",
      "GCN acc on unlabled data: 0.7957085382208314\n",
      "attack loss: 0.7231448292732239\n"
     ]
    },
    {
     "name": "stderr",
     "output_type": "stream",
     "text": [
      "\r",
      "Perturbing graph:  84%|████████████████████▏   | 84/100 [31:18<06:10, 23.15s/it]"
     ]
    },
    {
     "name": "stdout",
     "output_type": "stream",
     "text": [
      "GCN loss on unlabled data: 0.8240214586257935\n",
      "GCN acc on unlabled data: 0.8046490835940993\n",
      "attack loss: 0.693856418132782\n"
     ]
    },
    {
     "name": "stderr",
     "output_type": "stream",
     "text": [
      "\r",
      "Perturbing graph:  85%|████████████████████▍   | 85/100 [31:40<05:43, 22.91s/it]"
     ]
    },
    {
     "name": "stdout",
     "output_type": "stream",
     "text": [
      "GCN loss on unlabled data: 0.8221176266670227\n",
      "GCN acc on unlabled data: 0.8019669199821189\n",
      "attack loss: 0.6907541155815125\n"
     ]
    },
    {
     "name": "stderr",
     "output_type": "stream",
     "text": [
      "\r",
      "Perturbing graph:  86%|████████████████████▋   | 86/100 [32:04<05:23, 23.08s/it]"
     ]
    },
    {
     "name": "stdout",
     "output_type": "stream",
     "text": [
      "GCN loss on unlabled data: 0.8359056115150452\n",
      "GCN acc on unlabled data: 0.8046490835940993\n",
      "attack loss: 0.710349977016449\n"
     ]
    },
    {
     "name": "stderr",
     "output_type": "stream",
     "text": [
      "\r",
      "Perturbing graph:  87%|████████████████████▉   | 87/100 [32:27<04:59, 23.02s/it]"
     ]
    },
    {
     "name": "stdout",
     "output_type": "stream",
     "text": [
      "GCN loss on unlabled data: 0.8375189900398254\n",
      "GCN acc on unlabled data: 0.8086723290120698\n",
      "attack loss: 0.7164555191993713\n"
     ]
    },
    {
     "name": "stderr",
     "output_type": "stream",
     "text": [
      "\r",
      "Perturbing graph:  88%|█████████████████████   | 88/100 [32:50<04:35, 23.00s/it]"
     ]
    },
    {
     "name": "stdout",
     "output_type": "stream",
     "text": [
      "GCN loss on unlabled data: 0.8290777206420898\n",
      "GCN acc on unlabled data: 0.7997317836388019\n",
      "attack loss: 0.7144869565963745\n"
     ]
    },
    {
     "name": "stderr",
     "output_type": "stream",
     "text": [
      "\r",
      "Perturbing graph:  89%|█████████████████████▎  | 89/100 [33:13<04:15, 23.19s/it]"
     ]
    },
    {
     "name": "stdout",
     "output_type": "stream",
     "text": [
      "GCN loss on unlabled data: 0.8172162771224976\n",
      "GCN acc on unlabled data: 0.8046490835940993\n",
      "attack loss: 0.7030983567237854\n"
     ]
    },
    {
     "name": "stderr",
     "output_type": "stream",
     "text": [
      "\r",
      "Perturbing graph:  90%|█████████████████████▌  | 90/100 [33:37<03:55, 23.52s/it]"
     ]
    },
    {
     "name": "stdout",
     "output_type": "stream",
     "text": [
      "GCN loss on unlabled data: 0.8273692727088928\n",
      "GCN acc on unlabled data: 0.8073312472060795\n",
      "attack loss: 0.7308729290962219\n"
     ]
    },
    {
     "name": "stderr",
     "output_type": "stream",
     "text": [
      "\r",
      "Perturbing graph:  91%|█████████████████████▊  | 91/100 [34:00<03:29, 23.30s/it]"
     ]
    },
    {
     "name": "stdout",
     "output_type": "stream",
     "text": [
      "GCN loss on unlabled data: 0.7595527172088623\n",
      "GCN acc on unlabled data: 0.8073312472060795\n",
      "attack loss: 0.6415536403656006\n"
     ]
    },
    {
     "name": "stderr",
     "output_type": "stream",
     "text": [
      "\r",
      "Perturbing graph:  92%|██████████████████████  | 92/100 [34:23<03:06, 23.29s/it]"
     ]
    },
    {
     "name": "stdout",
     "output_type": "stream",
     "text": [
      "GCN loss on unlabled data: 0.8284638524055481\n",
      "GCN acc on unlabled data: 0.8010728654447922\n",
      "attack loss: 0.7064993977546692\n"
     ]
    },
    {
     "name": "stderr",
     "output_type": "stream",
     "text": [
      "\r",
      "Perturbing graph:  93%|██████████████████████▎ | 93/100 [34:46<02:40, 22.96s/it]"
     ]
    },
    {
     "name": "stdout",
     "output_type": "stream",
     "text": [
      "GCN loss on unlabled data: 0.8202655911445618\n",
      "GCN acc on unlabled data: 0.7988377291014752\n",
      "attack loss: 0.6733136177062988\n"
     ]
    },
    {
     "name": "stderr",
     "output_type": "stream",
     "text": [
      "\r",
      "Perturbing graph:  94%|██████████████████████▌ | 94/100 [35:08<02:16, 22.75s/it]"
     ]
    },
    {
     "name": "stdout",
     "output_type": "stream",
     "text": [
      "GCN loss on unlabled data: 0.8483209013938904\n",
      "GCN acc on unlabled data: 0.8073312472060795\n",
      "attack loss: 0.7134976387023926\n"
     ]
    },
    {
     "name": "stderr",
     "output_type": "stream",
     "text": [
      "\r",
      "Perturbing graph:  95%|██████████████████████▊ | 95/100 [35:30<01:52, 22.49s/it]"
     ]
    },
    {
     "name": "stdout",
     "output_type": "stream",
     "text": [
      "GCN loss on unlabled data: 0.8017022609710693\n",
      "GCN acc on unlabled data: 0.8050961108627627\n",
      "attack loss: 0.6715494990348816\n"
     ]
    },
    {
     "name": "stderr",
     "output_type": "stream",
     "text": [
      "\r",
      "Perturbing graph:  96%|███████████████████████ | 96/100 [35:53<01:30, 22.72s/it]"
     ]
    },
    {
     "name": "stdout",
     "output_type": "stream",
     "text": [
      "GCN loss on unlabled data: 0.8571302890777588\n",
      "GCN acc on unlabled data: 0.7970496200268217\n",
      "attack loss: 0.7348571419715881\n"
     ]
    },
    {
     "name": "stderr",
     "output_type": "stream",
     "text": [
      "\r",
      "Perturbing graph:  97%|███████████████████████▎| 97/100 [36:17<01:08, 22.99s/it]"
     ]
    },
    {
     "name": "stdout",
     "output_type": "stream",
     "text": [
      "GCN loss on unlabled data: 0.8420041799545288\n",
      "GCN acc on unlabled data: 0.797496647295485\n",
      "attack loss: 0.7157319188117981\n"
     ]
    },
    {
     "name": "stderr",
     "output_type": "stream",
     "text": [
      "\r",
      "Perturbing graph:  98%|███████████████████████▌| 98/100 [36:39<00:45, 22.87s/it]"
     ]
    },
    {
     "name": "stdout",
     "output_type": "stream",
     "text": [
      "GCN loss on unlabled data: 0.8388984203338623\n",
      "GCN acc on unlabled data: 0.8015198927134555\n",
      "attack loss: 0.7440044283866882\n"
     ]
    },
    {
     "name": "stderr",
     "output_type": "stream",
     "text": [
      "\r",
      "Perturbing graph:  99%|███████████████████████▊| 99/100 [37:02<00:22, 22.95s/it]"
     ]
    },
    {
     "name": "stdout",
     "output_type": "stream",
     "text": [
      "GCN loss on unlabled data: 0.8518236875534058\n",
      "GCN acc on unlabled data: 0.7957085382208314\n",
      "attack loss: 0.7264821529388428\n"
     ]
    },
    {
     "name": "stderr",
     "output_type": "stream",
     "text": [
      "Perturbing graph: 100%|███████████████████████| 100/100 [37:25<00:00, 22.46s/it]\n"
     ]
    }
   ],
   "source": [
    "surrogate = GCN(nfeat=features.shape[1], nclass=labels.max().item()+1,\n",
    "                nhid=16, dropout=0, with_relu=False, with_bias=False, device='cpu').to('cpu')\n",
    "surrogate.fit(features, adj, labels, idx_train, idx_val, patience=30)\n",
    "model = Metattack(surrogate, nnodes=adj.shape[0], feature_shape=features.shape,\n",
    "        attack_structure=True, attack_features=True, device='cpu', lambda_=0).to('cpu')\n",
    "model.attack(features, adj, labels, idx_train, idx_unlabeled, n_perturbations=100, ll_constraint=False)\n",
    "modified_adj = model.modified_adj"
   ]
  },
  {
   "cell_type": "code",
   "execution_count": 6,
   "id": "becc4990",
   "metadata": {},
   "outputs": [],
   "source": [
    "# todo: fix modularity"
   ]
  },
  {
   "cell_type": "code",
   "execution_count": 7,
   "id": "89d6abb3",
   "metadata": {},
   "outputs": [],
   "source": [
    "def test_gcn(adj):\n",
    "    adj = normalize_adj_tensor(adj)\n",
    "    gcn = GCN(nfeat=features.shape[1],\n",
    "              nhid=args.hidden,\n",
    "              nclass=labels.max().item() + 1,\n",
    "              dropout=0.5,\n",
    "              device='cpu')\n",
    "\n",
    "    if device != 'cpu':\n",
    "        gcn = gcn.to(device)\n",
    "\n",
    "    optimizer = optim.Adam(gcn.parameters(),\n",
    "                           lr=args.lr, weight_decay=5e-4)\n",
    "\n",
    "    gcn.train()\n",
    "\n",
    "    for epoch in range(args.epochs):\n",
    "        optimizer.zero_grad()\n",
    "        output = gcn(features, adj)\n",
    "        loss_train = F.nll_loss(output[idx_train], labels[idx_train])\n",
    "        acc_train = accuracy(output[idx_train], labels[idx_train])\n",
    "        loss_train.backward()\n",
    "        optimizer.step()\n",
    "\n",
    "    gcn.eval()\n",
    "    output = gcn(features, adj)\n",
    "\n",
    "    loss_test = F.nll_loss(output[idx_test], labels[idx_test])\n",
    "    acc_test = accuracy(output[idx_test], labels[idx_test])\n",
    "    #print(\"Test set results:\",\n",
    "    #       \"loss= {:.4f}\".format(loss_test.item()),\n",
    "    #       \"accuracy= {:.4f}\".format(acc_test.item()))\n",
    "\n",
    "    return acc_test.item()"
   ]
  },
  {
   "cell_type": "code",
   "execution_count": 8,
   "id": "ff34b131",
   "metadata": {},
   "outputs": [],
   "source": [
    "def test_gat(adj):\n",
    "    adj = normalize_adj_tensor(adj)\n",
    "    edge_index, _ = dense_to_sparse(adj)\n",
    "    device='cpu'\n",
    "    edge_index = edge_index.to(device)\n",
    "\n",
    "    gatv1 = GAT(\n",
    "        in_channels=features.shape[1],\n",
    "        num_layers=1,\n",
    "        hidden_channels=args.hidden,\n",
    "        out_channels=labels.max().item() + 1,\n",
    "        dropout=0.5,\n",
    "        heads=8\n",
    "    ).to(device)\n",
    "\n",
    "    optimizer = optim.Adam(gatv1.parameters(), lr=args.lr, weight_decay=5e-4)\n",
    "\n",
    "    gatv1.train()\n",
    "\n",
    "    for epoch in range(args.epochs):\n",
    "        optimizer.zero_grad()\n",
    "        output = F.log_softmax(gatv1(features, edge_index), dim=1)\n",
    "\n",
    "        loss_train = F.nll_loss(output[idx_train], labels[idx_train])\n",
    "        acc_train = accuracy(output[idx_train], labels[idx_train])\n",
    "        loss_train.backward()\n",
    "        torch.nn.utils.clip_grad_norm_(gatv1.parameters(), max_norm=1.0)\n",
    "        optimizer.step()\n",
    "\n",
    "    gatv1.eval()\n",
    "    output = F.log_softmax(gatv1(features, edge_index), dim=1)\n",
    "\n",
    "    loss_test = F.nll_loss(output[idx_test], labels[idx_test])\n",
    "    acc_test = accuracy(output[idx_test], labels[idx_test])\n",
    "    #print(\"Test set results:\",\n",
    "    #       \"loss= {:.4f}\".format(loss_test.item()),\n",
    "    #       \"accuracy= {:.4f}\".format(acc_test.item()))\n",
    "\n",
    "    return acc_test.item()"
   ]
  },
  {
   "cell_type": "code",
   "execution_count": 9,
   "id": "330d2fce",
   "metadata": {},
   "outputs": [],
   "source": [
    "def test_gatv2(adj):\n",
    "    adj = normalize_adj_tensor(adj)\n",
    "    edge_index, _ = dense_to_sparse(adj)\n",
    "    device='cpu'\n",
    "    edge_index = edge_index.to(device)\n",
    "\n",
    "    gatv2 = GAT(\n",
    "        v2=True,\n",
    "        in_channels=features.shape[1],\n",
    "        num_layers=1,\n",
    "        hidden_channels=args.hidden,\n",
    "        out_channels=labels.max().item() + 1,\n",
    "        dropout=0.5,\n",
    "        heads=8\n",
    "    ).to(device)\n",
    "\n",
    "    optimizer = optim.Adam(gatv2.parameters(), lr=args.lr, weight_decay=5e-4)\n",
    "\n",
    "    gatv2.train()\n",
    "\n",
    "    for epoch in range(args.epochs):\n",
    "        optimizer.zero_grad()\n",
    "        output = F.log_softmax(gatv2(features, edge_index), dim=1)\n",
    "\n",
    "        loss_train = F.nll_loss(output[idx_train], labels[idx_train])\n",
    "        acc_train = accuracy(output[idx_train], labels[idx_train])\n",
    "        loss_train.backward()\n",
    "        torch.nn.utils.clip_grad_norm_(gatv2.parameters(), max_norm=1.0)\n",
    "        optimizer.step()\n",
    "\n",
    "    gatv2.eval()\n",
    "    output = F.log_softmax(gatv2(features, edge_index), dim=1)\n",
    "\n",
    "    loss_test = F.nll_loss(output[idx_test], labels[idx_test])\n",
    "    acc_test = accuracy(output[idx_test], labels[idx_test])\n",
    "    #print(\"Test set results:\",\n",
    "    #       \"loss= {:.4f}\".format(loss_test.item()),\n",
    "    #       \"accuracy= {:.4f}\".format(acc_test.item()))\n",
    "\n",
    "    return acc_test.item()\n"
   ]
  },
  {
   "cell_type": "code",
   "execution_count": 14,
   "id": "883be298",
   "metadata": {},
   "outputs": [],
   "source": [
    "import seaborn as sns\n",
    "from matplotlib import pyplot as plt\n",
    "import pandas as pd\n",
    "\n",
    "def test_and_visualize(adj, modified_adj, test_function, name):\n",
    "    runs = 25\n",
    "    clean_acc = []\n",
    "    attacked_acc = []\n",
    "   \n",
    "    print(f'=== testing {name} on original(clean) graph ===')\n",
    "    for i in range(runs):\n",
    "        clean_acc.append(test_function(adj))\n",
    "\n",
    "    print(f'=== testing {name} on attacked graph ===')\n",
    "    for i in range(runs):\n",
    "        attacked_acc.append(test_function(modified_adj))\n",
    "\n",
    "    data = {\n",
    "      'Accuracy Type': ['Acc. Clean'] * len(clean_acc) + ['Acc. Perturbed'] * len(attacked_acc),\n",
    "      'Accuracy': clean_acc + attacked_acc\n",
    "    }\n",
    "    \n",
    "    df = pd.DataFrame(data)\n",
    "\n",
    "    plt.figure(figsize=(6, 6))\n",
    "    sns.boxplot(x='Accuracy Type', y='Accuracy', data=df)\n",
    "\n",
    "    plt.title(\"Accuracy before/after Mettack attack, {}\".format(name))\n",
    "    plt.show()"
   ]
  },
  {
   "cell_type": "code",
   "execution_count": 15,
   "id": "8d51b570",
   "metadata": {},
   "outputs": [
    {
     "name": "stdout",
     "output_type": "stream",
     "text": [
      "=== testing GCN on original(clean) graph ===\n",
      "=== testing GCN on attacked graph ===\n"
     ]
    },
    {
     "data": {
      "image/png": "[encoded data removed]",
      "text/plain": [
       "<Figure size 600x600 with 1 Axes>"
      ]
     },
     "metadata": {},
     "output_type": "display_data"
    }
   ],
   "source": [
    "test_and_visualize(adj, modified_adj, test_gcn, \"GCN\")"
   ]
  },
  {
   "cell_type": "code",
   "execution_count": 16,
   "id": "be0256a5",
   "metadata": {},
   "outputs": [
    {
     "name": "stdout",
     "output_type": "stream",
     "text": [
      "=== testing GAT on original(clean) graph ===\n",
      "=== testing GAT on attacked graph ===\n"
     ]
    },
    {
     "data": {
      "image/png": "[encoded data removed]",
      "text/plain": [
       "<Figure size 600x600 with 1 Axes>"
      ]
     },
     "metadata": {},
     "output_type": "display_data"
    }
   ],
   "source": [
    "test_and_visualize(adj, modified_adj, test_gat, \"GAT\")"
   ]
  },
  {
   "cell_type": "code",
   "execution_count": 17,
   "id": "88b14aaa",
   "metadata": {},
   "outputs": [
    {
     "name": "stdout",
     "output_type": "stream",
     "text": [
      "=== testing GATv2 on original(clean) graph ===\n",
      "=== testing GATv2 on attacked graph ===\n"
     ]
    },
    {
     "data": {
      "image/png": "[encoded data removed]",
      "text/plain": [
       "<Figure size 600x600 with 1 Axes>"
      ]
     },
     "metadata": {},
     "output_type": "display_data"
    }
   ],
   "source": [
    "test_and_visualize(adj, modified_adj, test_gcn, \"GATv2\")"
   ]
  }
 ],
 "metadata": {
  "kernelspec": {
   "display_name": "Python 3 (ipykernel)",
   "language": "python",
   "name": "python3"
  },
  "language_info": {
   "codemirror_mode": {
    "name": "ipython",
    "version": 3
   },
   "file_extension": ".py",
   "mimetype": "text/x-python",
   "name": "python",
   "nbconvert_exporter": "python",
   "pygments_lexer": "ipython3",
   "version": "3.10.14"
  }
 },
 "nbformat": 4,
 "nbformat_minor": 5
}
